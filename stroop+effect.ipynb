{
 "cells": [
  {
   "cell_type": "markdown",
   "metadata": {},
   "source": [
    "## Background Information"
   ]
  },
  {
   "cell_type": "markdown",
   "metadata": {},
   "source": [
    "###### In a Stroop task, participants are presented with a list of words, with each word displayed in a color of ink. The participant’s task is to say out loud the color of the ink in which the word is printed. The task has two conditions: a congruent words condition, and an incongruent words condition. In the congruent words condition, the words being displayed are color words whose names match the colors in which they are printed: for example RED, BLUE. In the incongruent words condition, the words displayed are color words whose names do not match the colors in which they are printed: for example PURPLE, ORANGE. In each case, we measure the time it takes to name the ink colors in equally-sized lists. Each participant will go through and record a time from each condition."
   ]
  },
  {
   "cell_type": "markdown",
   "metadata": {},
   "source": [
    "## Questions For Investigation"
   ]
  },
  {
   "cell_type": "markdown",
   "metadata": {},
   "source": [
    "###### As a general note, be sure to keep a record of any resources that you use or refer to in the creation of your project. You will need to report your sources as part of the project submission."
   ]
  },
  {
   "cell_type": "markdown",
   "metadata": {},
   "source": [
    "###### 1. What is our independent variable? What is our dependent variable? \n",
    "\n",
    "independent variable - condition is congruent or incongruent.\n",
    "\n",
    "dependent variable - Reaction time required to name the color in each condition."
   ]
  },
  {
   "cell_type": "markdown",
   "metadata": {},
   "source": [
    "###### 2a. What is an appropriate set of hypotheses for this task? What kind of statistical test do you expect to perform? Justify your choices.\n",
    "\n",
    "Hypothesis for the stroop effect\n",
    "\n",
    "Null Hypothesis\n",
    "\n",
    "Ho -> The time required to identify the color in congruent condition is equal or greater than to that in the incongruent condition\n",
    "\n",
    "Ho = μ_congruent-μ_incongruent>=0\n",
    "\n",
    "Alternate Hypothesis\n",
    "\n",
    "Ha -> The time required to identify the color in incongruent condition is greater than that in the congruent condition.\n",
    "\n",
    "Ha = μ_congruent-μ_incongruent<0"
   ]
  },
  {
   "cell_type": "markdown",
   "metadata": {},
   "source": [
    "###### 2b.A statistical test is proposed which will distinguish the proposed hypotheses. Any assumptions made by the statistical test are addressed."
   ]
  },
  {
   "cell_type": "markdown",
   "metadata": {},
   "source": [
    "One Sample Paired t-test will be performed as two different experiments are carried out on the same persons\n",
    "\n",
    "1.The variance of the population is unknown.\n",
    "\n",
    "2.The sample size is small (n=24 < 30).\n",
    "\n",
    "3.The same participants are asked to perform the task under both the congruent words condition and the incongruent words condition."
   ]
  },
  {
   "cell_type": "markdown",
   "metadata": {},
   "source": [
    "###### Q3: Descriptive statistics, including at least one measure of centrality and one measure of variability, have been computed for the dataset’s groups."
   ]
  },
  {
   "cell_type": "code",
   "execution_count": 77,
   "metadata": {},
   "outputs": [
    {
     "name": "stdout",
     "output_type": "stream",
     "text": [
      "Measure of central tendency\n",
      "\n",
      "Mean\n",
      "Mean value of congruent data is 14.051\n",
      "Mean value of incongruent data is 22.015\n",
      "\n",
      "Median\n",
      "Median of congruent data is 14.356\n",
      "Median of incongruent data is 21.017\n"
     ]
    }
   ],
   "source": [
    "print(\"Measure of central tendency\")\n",
    "\n",
    "import numpy as np\n",
    "import pandas as pd\n",
    "\n",
    "data = pd.read_csv('stroopdata.csv')\n",
    "congruent_data = data['Congruent']\n",
    "incongruent_data = data['Incongruent']\n",
    "\n",
    "print(\"\\nMean\")\n",
    "mean_congruent = np.mean(congruent_data)\n",
    "mean_incongruent = np.mean(incongruent_data)\n",
    "print(\"Mean value of congruent data is \"+ str(mean_congruent - mean_congruent % 1e-3))\n",
    "print(\"Mean value of incongruent data is \"+ str(mean_incongruent - mean_incongruent % 1e-3))\n",
    "\n",
    "print(\"\\nMedian\")\n",
    "median_congruent = np.median(congruent_data)\n",
    "median_incongruent = np.median(incongruent_data)\n",
    "print(\"Median of congruent data is \"+  str(median_congruent - median_congruent % 1e-3))\n",
    "print(\"Median of incongruent data is \"+  str(median_incongruent - median_incongruent % 1e-3))\n"
   ]
  },
  {
   "cell_type": "code",
   "execution_count": 78,
   "metadata": {},
   "outputs": [
    {
     "name": "stdout",
     "output_type": "stream",
     "text": [
      "Measure of Variability\n",
      "\n",
      "Standard deviation\n",
      "Standard deviation of congruent data is 3.484\n",
      "Standard deviation of incongruent data is 4.696\n"
     ]
    }
   ],
   "source": [
    "print(\"Measure of Variability\")\n",
    "\n",
    "print(\"\\nStandard deviation\")\n",
    "std_congruent_data = np.std(congruent_data)\n",
    "std_incongruent_data = np.std(incongruent_data)\n",
    "print(\"Standard deviation of congruent data is \"+  str(std_congruent_data - std_congruent_data % 1e-3))\n",
    "print(\"Standard deviation of incongruent data is \"+  str(std_incongruent_data - std_incongruent_data % 1e-3))"
   ]
  },
  {
   "cell_type": "markdown",
   "metadata": {},
   "source": [
    "###### Q4: One or two visualizations have been created that show off the data, including comments on what can be observed in the plot or plots."
   ]
  },
  {
   "cell_type": "code",
   "execution_count": 79,
   "metadata": {},
   "outputs": [
    {
     "data": {
      "image/png": "[encoded data removed]",
      "text/plain": [
       "<matplotlib.figure.Figure at 0x1c3303ec240>"
      ]
     },
     "metadata": {},
     "output_type": "display_data"
    }
   ],
   "source": [
    "%matplotlib inline\n",
    "from matplotlib import pyplot as plt\n",
    "import pandas as pd\n",
    "\n",
    "df = pd.read_csv(\"stroopdata.csv\")\n",
    "\n",
    "\n",
    "df.plot.bar();"
   ]
  },
  {
   "cell_type": "markdown",
   "metadata": {},
   "source": [
    "The above chart shows that the time required to name a color in incongruent condition is always more than that in congruent condition."
   ]
  },
  {
   "cell_type": "code",
   "execution_count": 80,
   "metadata": {},
   "outputs": [
    {
     "data": {
      "text/plain": [
       "<matplotlib.axes._subplots.AxesSubplot at 0x1c331317c18>"
      ]
     },
     "execution_count": 80,
     "metadata": {},
     "output_type": "execute_result"
    },
    {
     "data": {
      "image/png": "[encoded data removed]",
      "text/plain": [
       "<matplotlib.figure.Figure at 0x1c331339be0>"
      ]
     },
     "metadata": {},
     "output_type": "display_data"
    }
   ],
   "source": [
    "df['Congruent'].plot.hist(orientation='vertical', cumulative=True)"
   ]
  },
  {
   "cell_type": "markdown",
   "metadata": {},
   "source": [
    "The above chart is the histogram of the time required to identify color in congruent condition."
   ]
  },
  {
   "cell_type": "code",
   "execution_count": 81,
   "metadata": {},
   "outputs": [
    {
     "data": {
      "text/plain": [
       "<matplotlib.axes._subplots.AxesSubplot at 0x1c3312cc748>"
      ]
     },
     "execution_count": 81,
     "metadata": {},
     "output_type": "execute_result"
    },
    {
     "data": {
      "image/png": "[encoded data removed]",
      "text/plain": [
       "<matplotlib.figure.Figure at 0x1c331398400>"
      ]
     },
     "metadata": {},
     "output_type": "display_data"
    }
   ],
   "source": [
    "df['Incongruent'].plot.hist(orientation='vertical', cumulative=True)"
   ]
  },
  {
   "cell_type": "markdown",
   "metadata": {},
   "source": [
    "The above chart is the histogram of the time required to identify color in incongruent condition."
   ]
  },
  {
   "cell_type": "markdown",
   "metadata": {},
   "source": [
    "###### Q5: A statistical test has been correctly performed and reported, including test statistic, p-value, and test result. The test results are interpreted in terms of the experimental task performed. Alternatively, students may use a bootstrapping approach to simulate the results of a traditional hypothesis test."
   ]
  },
  {
   "cell_type": "code",
   "execution_count": 82,
   "metadata": {},
   "outputs": [
    {
     "name": "stdout",
     "output_type": "stream",
     "text": [
      "t-statistic is -8.021\n",
      "p-value is 4.10300058571e-08\n",
      "None\n"
     ]
    }
   ],
   "source": [
    "import scipy.stats as stats\n",
    "t, p = stats.ttest_rel(df['Congruent'],df['Incongruent'])\n",
    "print(\"t-statistic is \"+str(t - t % 1e-3))\n",
    "print(print(\"p-value is \"+str(p)))"
   ]
  },
  {
   "cell_type": "code",
   "execution_count": 83,
   "metadata": {},
   "outputs": [
    {
     "name": "stdout",
     "output_type": "stream",
     "text": [
      "t-critical value for 23 degrees of freedom at level of confidence α=0.05 is -1.7139\n"
     ]
    }
   ],
   "source": [
    "print(\"t-critical value for 23 degrees of freedom at level of confidence α=0.05 is -1.7139\")"
   ]
  },
  {
   "cell_type": "markdown",
   "metadata": {},
   "source": [
    "As shown by the output above for the one-sample paired t-test, with an α level of 0.05, the t-statistics is equal to -8.021, which has passed the t-critical value (-1.7139). The p-value is nearly zero, which is less than α, and therefore based on both the t-statistic and the p-value of the test, we reject the null hypothesis (Ho) in favor of the alternative hypothesis (Ha) and conclude that the participants’ reaction time of the task under the incongruent words condition is significantly longer than that of the congruent words condition.The results match up with my expectation as my own result of the stroop effect experiment is consistent with the outcome of this test. In other words, the Stroop effect indeed interferes people’s reaction time of a task."
   ]
  },
  {
   "cell_type": "markdown",
   "metadata": {
    "collapsed": true
   },
   "source": [
    "The following links are used\n",
    "\n",
    "http://imbs.uci.edu/~kjameson/ECST/MacLeod_TheStroopEffect.pdf\n",
    "\n",
    "https://pandas.pydata.org/pandas-docs/stable/visualization.html\n",
    "\n",
    "http://iaingallagher.tumblr.com/post/50980987285/t-tests-in-python"
   ]
  }
 ],
 "metadata": {
  "kernelspec": {
   "display_name": "Python [conda env:Anaconda3]",
   "language": "python",
   "name": "conda-env-Anaconda3-py"
  },
  "language_info": {
   "codemirror_mode": {
    "name": "ipython",
    "version": 3
   },
   "file_extension": ".py",
   "mimetype": "text/x-python",
   "name": "python",
   "nbconvert_exporter": "python",
   "pygments_lexer": "ipython3",
   "version": "3.6.3"
  }
 },
 "nbformat": 4,
 "nbformat_minor": 2
}
