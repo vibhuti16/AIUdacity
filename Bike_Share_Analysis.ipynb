{
 "cells": [
  {
   "cell_type": "markdown",
   "metadata": {},
   "source": [
    "# 2016 US Bike Share Activity Snapshot\n",
    "\n",
    "## Table of Contents\n",
    "- [Introduction](#intro)\n",
    "- [Posing Questions](#pose_questions)\n",
    "- [Data Collection and Wrangling](#wrangling)\n",
    "  - [Condensing the Trip Data](#condensing)\n",
    "- [Exploratory Data Analysis](#eda)\n",
    "  - [Statistics](#statistics)\n",
    "  - [Visualizations](#visualizations)\n",
    "- [Performing Your Own Analysis](#eda_continued)\n",
    "- [Conclusions](#conclusions)\n",
    "\n",
    "<a id='intro'></a>\n",
    "## Introduction\n",
    "\n",
    "> **Tip**: Quoted sections like this will provide helpful instructions on how to navigate and use a Jupyter notebook.\n",
    "\n",
    "Over the past decade, bicycle-sharing systems have been growing in number and popularity in cities across the world. Bicycle-sharing systems allow users to rent bicycles for short trips, typically 30 minutes or less. Thanks to the rise in information technologies, it is easy for a user of the system to access a dock within the system to unlock or return bicycles. These technologies also provide a wealth of data that can be used to explore how these bike-sharing systems are used.\n",
    "\n",
    "In this project, you will perform an exploratory analysis on data provided by [Motivate](https://www.motivateco.com/), a bike-share system provider for many major cities in the United States. You will compare the system usage between three large cities: New York City, Chicago, and Washington, DC. You will also see if there are any differences within each system for those users that are registered, regular users and those users that are short-term, casual users."
   ]
  },
  {
   "cell_type": "markdown",
   "metadata": {},
   "source": [
    "<a id='pose_questions'></a>\n",
    "## Posing Questions\n",
    "\n",
    "Before looking at the bike sharing data, you should start by asking questions you might want to understand about the bike share data. Consider, for example, if you were working for Motivate. What kinds of information would you want to know about in order to make smarter business decisions? If you were a user of the bike-share service, what factors might influence how you would want to use the service?\n",
    "\n",
    "**Question 1**: Write at least two questions related to bike sharing that you think could be answered by data.\n",
    "\n",
    "**Answer**: How does the ridership change with time of the day? \n",
    "In which locations is ridership the maxiumum?\n",
    "What age group uses this system the maximum?\n",
    "\n",
    "> **Tip**: If you double click on this cell, you will see the text change so that all of the formatting is removed. This allows you to edit this block of text. This block of text is written using [Markdown](http://daringfireball.net/projects/markdown/syntax), which is a way to format text using headers, links, italics, and many other options using a plain-text syntax. You will also use Markdown later in the Nanodegree program. Use **Shift** + **Enter** or **Shift** + **Return** to run the cell and show its rendered form."
   ]
  },
  {
   "cell_type": "markdown",
   "metadata": {},
   "source": [
    "<a id='wrangling'></a>\n",
    "## Data Collection and Wrangling\n",
    "\n",
    "Now it's time to collect and explore our data. In this project, we will focus on the record of individual trips taken in 2016 from our selected cities: New York City, Chicago, and Washington, DC. Each of these cities has a page where we can freely download the trip data.:\n",
    "\n",
    "- New York City (Citi Bike): [Link](https://www.citibikenyc.com/system-data)\n",
    "- Chicago (Divvy): [Link](https://www.divvybikes.com/system-data)\n",
    "- Washington, DC (Capital Bikeshare): [Link](https://www.capitalbikeshare.com/system-data)\n",
    "\n",
    "If you visit these pages, you will notice that each city has a different way of delivering its data. Chicago updates with new data twice a year, Washington DC is quarterly, and New York City is monthly. **However, you do not need to download the data yourself.** The data has already been collected for you in the `/data/` folder of the project files. While the original data for 2016 is spread among multiple files for each city, the files in the `/data/` folder collect all of the trip data for the year into one file per city. Some data wrangling of inconsistencies in timestamp format within each city has already been performed for you. In addition, a random 2% sample of the original data is taken to make the exploration more manageable. \n",
    "\n",
    "**Question 2**: However, there is still a lot of data for us to investigate, so it's a good idea to start off by looking at one entry from each of the cities we're going to analyze. Run the first code cell below to load some packages and functions that you'll be using in your analysis. Then, complete the second code cell to print out the first trip recorded from each of the cities (the second line of each data file).\n",
    "\n",
    "> **Tip**: You can run a code cell like you formatted Markdown cells above by clicking on the cell and using the keyboard shortcut **Shift** + **Enter** or **Shift** + **Return**. Alternatively, a code cell can be executed using the **Play** button in the toolbar after selecting it. While the cell is running, you will see an asterisk in the message to the left of the cell, i.e. `In [*]:`. The asterisk will change into a number to show that execution has completed, e.g. `In [1]`. If there is output, it will show up as `Out [1]:`, with an appropriate number to match the \"In\" number."
   ]
  },
  {
   "cell_type": "code",
   "execution_count": 2,
   "metadata": {},
   "outputs": [
    {
     "name": "stdout",
     "output_type": "stream",
     "text": [
      "Yes\n",
      "Yes\n",
      "Yes\n"
     ]
    }
   ],
   "source": [
    "import csv\n",
    "from datetime import datetime \n",
    "from pprint import pprint \n",
    "import calendar\n",
    "\n",
    "def duration_in_mins(datum, city):\n",
    "    \"\"\"\n",
    "    Takes as input a dictionary containing info about a single trip (datum) and\n",
    "    its origin city (city) and returns the trip duration in units of minutes.\n",
    "\n",
    "    \"\"\"\n",
    "    duration = 0.0\n",
    "    if(city == 'Washington'):\n",
    "        duration = int(datum.get('Duration (ms)'))/(1000*60)\n",
    "    else:\n",
    "        duration = int(datum.get('tripduration'))/60\n",
    "   \n",
    "    return round(duration,4)\n",
    "\n",
    "\n",
    "\n",
    "def time_of_trip(datum, city):\n",
    "    \"\"\"\n",
    "    Takes as input a dictionary containing info about a single trip (datum) and\n",
    "    its origin city (city) and returns the month, hour, and day of the week in\n",
    "    which the trip was made.\n",
    "    \"\"\"\n",
    "    date = 0\n",
    "    if(city == 'Washington'):\n",
    "        date =  datetime.strptime(datum.get('Start date'), \"%m/%d/%Y %H:%M\")\n",
    "    elif(city == 'Chicago'):\n",
    "        date = datetime.strptime(datum.get('starttime'), \"%m/%d/%Y %H:%M\")\n",
    "    else:\n",
    "        date = datetime.strptime(datum.get('starttime'), \"%m/%d/%Y %H:%M:%S\")\n",
    "    \n",
    "    return (date.month, date.hour, calendar.day_name[date.date().weekday()])\n",
    "\n",
    "def type_of_user(datum, city):\n",
    "    \"\"\"\n",
    "    Takes as input a dictionary containing info about a single trip (datum) and\n",
    "    its origin city (city) and returns the type of system user that made the\n",
    "    trip.\n",
    "    \n",
    "    \"\"\"\n",
    "    \n",
    "    user_type = \"\"\n",
    "    if(city == 'Washington'):\n",
    "        user_type = datum.get('Member Type')\n",
    "        if(user_type == 'Registered'):\n",
    "            user_type = 'Subscriber'\n",
    "        else:\n",
    "            user_type = 'Customer'\n",
    "    else:\n",
    "        user_type = datum.get('usertype')\n",
    "    \n",
    "    return user_type\n",
    "\n",
    "def condense_data(in_file, out_file, city):\n",
    "    \"\"\"\n",
    "    This function takes full data from the specified input file\n",
    "    and writes the condensed data to a specified output file. The city\n",
    "    argument determines how the input file will be parsed.\n",
    "\n",
    "    \"\"\"\n",
    "    \n",
    "    with open(out_file, 'w') as f_out, open(in_file, 'r') as f_in:\n",
    "        # set up csv DictWriter object - writer requires column names for the\n",
    "        # first row as the \"fieldnames\" argument\n",
    "        out_colnames = ['duration', 'month', 'hour', 'day_of_week', 'user_type']        \n",
    "        trip_writer = csv.DictWriter(f_out, fieldnames = out_colnames)\n",
    "        trip_writer.writeheader()\n",
    "        \n",
    "        ## TODO: set up csv DictReader object ##\n",
    "        trip_reader = csv.DictReader(f_in)\n",
    "        # collect data from and process each row\n",
    "        for row in trip_reader:\n",
    "            # set up a dictionary to hold the values for the cleaned and trimmed\n",
    "            # data point\n",
    "            duration = duration_in_mins(row, city)\n",
    "            timeoftrip = time_of_trip(row, city)\n",
    "            usertype = type_of_user(row, city)\n",
    "            new_point = {}\n",
    "            new_point['duration'] = duration\n",
    "            new_point['month'] = timeoftrip[0]\n",
    "            new_point['hour'] = timeoftrip[1]\n",
    "            new_point['day_of_week'] = timeoftrip[2]\n",
    "            new_point['user_type'] = usertype\n",
    "            trip_writer.writerow(new_point)\n",
    "            \n",
    "            \n",
    "\n",
    "# Run this cell to check your work\n",
    "city_info = {'Washington': {'in_file': './data/Washington-CapitalBikeshare-2016.csv',\n",
    "                            'out_file': './data/Washington-2016-Summary.csv'},\n",
    "             'Chicago': {'in_file': './data/Chicago-Divvy-2016.csv',\n",
    "                         'out_file': './data/Chicago-2016-Summary.csv'},\n",
    "             'NYC': {'in_file': './data/NYC-CitiBike-2016.csv',\n",
    "                     'out_file': './data/NYC-2016-Summary.csv'}}\n",
    "\n",
    "for city, filenames in city_info.items():\n",
    "    condense_data(filenames['in_file'], filenames['out_file'], city)\n",
    "\n",
    "   "
   ]
  },
  {
   "cell_type": "markdown",
   "metadata": {},
   "source": [
    "> **Tip**: If you save a jupyter Notebook, the output from running code blocks will also be saved. However, the state of your workspace will be reset once a new session is started. Make sure that you run all of the necessary code blocks from your previous session to reestablish variables and functions before picking up where you last left off.\n",
    "\n",
    "<a id='eda'></a>\n",
    "## Exploratory Data Analysis\n",
    "\n",
    "Now that you have the data collected and wrangled, you're ready to start exploring the data. In this section you will write some code to compute descriptive statistics from the data. You will also be introduced to the `matplotlib` library to create some basic histograms of the data.\n",
    "\n",
    "<a id='statistics'></a>\n",
    "### Statistics\n",
    "\n",
    "First, let's compute some basic counts. The first cell below contains a function that uses the csv module to iterate through a provided data file, returning the number of trips made by subscribers and customers. The second cell runs this function on the example Bay Area data in the `/examples/` folder. Modify the cells to answer the question below.\n",
    "\n",
    "**Question 4a**: Which city has the highest number of trips? Which city has the highest proportion of trips made by subscribers? Which city has the highest proportion of trips made by short-term customers?\n",
    "\n",
    "**Answer**: Replace this text with your response!"
   ]
  },
  {
   "cell_type": "code",
   "execution_count": 1,
   "metadata": {},
   "outputs": [
    {
     "name": "stdout",
     "output_type": "stream",
     "text": [
      "highest number of trips:NYC\n",
      "highest number of customers trips:Chicago\n",
      "highest number of subscibers trips:NYC\n",
      "(5666, 633, 6299)\n"
     ]
    }
   ],
   "source": [
    "import csv\n",
    "\n",
    "def number_of_trips(filename):\n",
    "    \"\"\"\n",
    "    This function reads in a file with trip data and reports the number of\n",
    "    trips made by subscribers, customers, and total overall.\n",
    "    \"\"\"\n",
    "    with open(filename, 'r') as f_in:\n",
    "        # set up csv reader object\n",
    "        reader = csv.DictReader(f_in)\n",
    "        \n",
    "        # initialize count variables\n",
    "        n_subscribers = 0\n",
    "        n_customers = 0\n",
    "        \n",
    "        # tally up ride types\n",
    "        for row in reader:\n",
    "            if row['user_type'] == 'Subscriber':\n",
    "                n_subscribers += 1\n",
    "            else:\n",
    "                n_customers += 1\n",
    "        \n",
    "        # compute total number of rides\n",
    "        n_total = n_subscribers + n_customers\n",
    "        \n",
    "        # return tallies as a tuple\n",
    "        return(n_subscribers, n_customers, n_total)\n",
    "\n",
    "\n",
    "chicago_list = number_of_trips('./data/Chicago-2016-Summary.csv')\n",
    "summary_list = number_of_trips('./data/NYC-2016-Summary.csv')\n",
    "washington_list = number_of_trips('./data/Washington-2016-Summary.csv')\n",
    "city_list = ['Chicago','NYC','Washington']\n",
    "subscibers_list = [chicago_list[0],summary_list[0],washington_list[0]]\n",
    "customers_list = [chicago_list[1],summary_list[1],washington_list[1]]\n",
    "total_list = [chicago_list[2],summary_list[2],washington_list[2]]\n",
    "\n",
    "sub_customer_prop = [chicago_list[0]//chicago_list[1],summary_list[0]//summary_list[1],washington_list[0]//washington_list[1]]\n",
    "\n",
    "print(\"highest number of trips:\"+city_list[total_list.index(max(total_list))])\n",
    "print(\"highest number of customers trips:\"+city_list[sub_customer_prop.index(min(sub_customer_prop))])\n",
    "print(\"highest number of subscibers trips:\"+city_list[sub_customer_prop.index(max(sub_customer_prop))])\n",
    "\n",
    "data_file = './examples/BayArea-Y3-Summary.csv'\n",
    "print(number_of_trips(data_file))\n"
   ]
  },
  {
   "cell_type": "code",
   "execution_count": 7,
   "metadata": {
    "scrolled": true
   },
   "outputs": [
    {
     "name": "stdout",
     "output_type": "stream",
     "text": [
      "Chicago:- average trip length: 16.5636 proportion of rides longer than 30 minutes: 8.3321\n",
      "NYC:- average trip length: 15.8126 proportion of rides longer than 30 minutes: 7.3024\n",
      "Washington:- average trip length: 18.9329 proportion of rides longer than 30 minutes: 10.8389\n"
     ]
    }
   ],
   "source": [
    " \n",
    "# > **Tip**: In order to add additional cells to a notebook, you can use the \"Insert Cell Above\" and \"Insert Cell Below\" options from the menu bar above. There is also an icon in the toolbar for adding new cells, with additional icons for moving the cells up and down the document. By default, new cells are of the code type; you can also specify the cell type (e.g. Code or Markdown) of selected cells from the Cell menu or the dropdown in the toolbar.\n",
    "\n",
    "# Now, you will write your own code to continue investigating properties of the data.\n",
    "\n",
    "# **Question 4b**: Bike-share systems are designed for riders to take short trips.\n",
    "#Most of the time, users are allowed to take trips of 30 minutes or less with no additional charges,\n",
    "#with overage charges made for trips of longer than that duration. What is the average trip length for each city? \n",
    "#What proportion of rides made in each city are longer than 30 minutes?\n",
    "\n",
    "# **Answer**: Replace this text with your reponse!\n",
    "    \n",
    "def average_trip_duration(filename):\n",
    "    with open(filename, 'r') as f_in:\n",
    "        # set up csv reader object\n",
    "        reader = csv.DictReader(f_in)\n",
    "        \n",
    "        # initialize count variables\n",
    "        n_total_all_durations = 0\n",
    "        n_total_no_durations = 0\n",
    "        n_total_no_above_30 = 0\n",
    "        \n",
    "        # tally up ride types\n",
    "        for row in reader:\n",
    "            duration = float(row['duration'])\n",
    "            n_total_all_durations = n_total_all_durations+duration\n",
    "            \n",
    "            if(duration>30):\n",
    "                n_total_no_above_30+=1\n",
    "                \n",
    "            n_total_no_durations+=1\n",
    "        \n",
    "        average_duration = round(n_total_all_durations/n_total_no_durations,4)\n",
    "        \n",
    "        perc_above_30 = round((n_total_no_above_30/n_total_no_durations)*100,4)\n",
    "        \n",
    "        # return tallies as a tuple\n",
    "        return(average_duration,perc_above_30)\n",
    "    \n",
    "chicago_list = average_trip_duration('./data/Chicago-2016-Summary.csv')\n",
    "print(\"Chicago:- \"+\"average trip length: \"+str(chicago_list[0])+\" proportion of rides longer than 30 minutes: \"+str(chicago_list[1]))\n",
    "nyc_list = average_trip_duration('./data/NYC-2016-Summary.csv')\n",
    "print(\"NYC:- \"+\"average trip length: \"+str(nyc_list[0])+\" proportion of rides longer than 30 minutes: \"+str(nyc_list[1]))\n",
    "washington_list = average_trip_duration('./data/Washington-2016-Summary.csv')\n",
    "print(\"Washington:- \"+\"average trip length: \"+str(washington_list[0])+\" proportion of rides longer than 30 minutes: \"+str(washington_list[1]))\n",
    "\n"
   ]
  },
  {
   "cell_type": "markdown",
   "metadata": {},
   "source": [
    "**Question 4c**: Dig deeper into the question of trip duration based on ridership. Choose one city. Within that city, which type of user takes longer rides on average: Subscribers or Customers?\n",
    "\n",
    "**Answer**: Replace this text with your response!"
   ]
  },
  {
   "cell_type": "code",
   "execution_count": 18,
   "metadata": {},
   "outputs": [
    {
     "name": "stdout",
     "output_type": "stream",
     "text": [
      "Longer rides taken by Customers\n"
     ]
    }
   ],
   "source": [
    "def calculate_rides_user_types(filename):\n",
    "    with open(filename, 'r') as f_in:\n",
    "        # set up csv reader object\n",
    "        reader = csv.DictReader(f_in)\n",
    "        \n",
    "        n_total_subscribers = 0\n",
    "        n_total_customers = 0\n",
    "        n_subscribers_duration = 0\n",
    "        n_customers_duration = 0\n",
    "        \n",
    "        # tally up ride types\n",
    "        for row in reader:\n",
    "            duration = float(row['duration'])\n",
    "            if row['user_type'] == 'Subscriber':\n",
    "                n_total_subscribers+=1\n",
    "                n_subscribers_duration = n_subscribers_duration+duration\n",
    "            else:\n",
    "                n_total_customers+=1\n",
    "                n_customers_duration = n_customers_duration+duration\n",
    "            \n",
    "        \n",
    "        average_duration_subscribers = round((n_subscribers_duration/n_total_subscribers),4)\n",
    "        \n",
    "        average_duration_customers = round((n_customers_duration/n_total_customers),4)\n",
    "        \n",
    "        # return tallies as a tuple\n",
    "        if average_duration_subscribers>average_duration_customers:\n",
    "            return \"Subscribers\"\n",
    "        else:\n",
    "            return \"Customers\"\n",
    "        \n",
    "print(\"Longer rides taken by \"+calculate_rides_user_types('./data/NYC-2016-Summary.csv'))\n",
    "\n"
   ]
  },
  {
   "cell_type": "markdown",
   "metadata": {},
   "source": [
    "<a id='visualizations'></a>\n",
    "### Visualizations\n",
    "\n",
    "The last set of values that you computed should have pulled up an interesting result. While the mean trip time for Subscribers is well under 30 minutes, the mean trip time for Customers is actually _above_ 30 minutes! It will be interesting for us to look at how the trip times are distributed. In order to do this, a new library will be introduced here, `matplotlib`. Run the cell below to load the library and to generate an example plot."
   ]
  },
  {
   "cell_type": "code",
   "execution_count": 2,
   "metadata": {},
   "outputs": [
    {
     "data": {
      "image/png": "[encoded data removed]",
      "text/plain": [
       "<matplotlib.figure.Figure at 0x7f37ccc547b8>"
      ]
     },
     "metadata": {},
     "output_type": "display_data"
    }
   ],
   "source": [
    "# load library\n",
    "import matplotlib.pyplot as plt\n",
    "\n",
    "# this is a 'magic word' that allows for plots to be displayed\n",
    "# inline with the notebook. If you want to know more, see:\n",
    "# http://ipython.readthedocs.io/en/stable/interactive/magics.html\n",
    "%matplotlib inline \n",
    "\n",
    "# example histogram, data taken from bay area sample\n",
    "data = [ 7.65,  8.92,  7.42,  5.50, 16.17,  4.20,  8.98,  9.62, 11.48, 14.33,\n",
    "        19.02, 21.53,  3.90,  7.97,  2.62,  2.67,  3.08, 14.40, 12.90,  7.83,\n",
    "        25.12,  8.30,  4.93, 12.43, 10.60,  6.17, 10.88,  4.78, 15.15,  3.53,\n",
    "         9.43, 13.32, 11.72,  9.85,  5.22, 15.10,  3.95,  3.17,  8.78,  1.88,\n",
    "         4.55, 12.68, 12.38,  9.78,  7.63,  6.45, 17.38, 11.90, 11.52,  8.63,]\n",
    "plt.hist(data)\n",
    "plt.title('Distribution of Trip Durations')\n",
    "plt.xlabel('Duration (m)')\n",
    "plt.show()"
   ]
  },
  {
   "cell_type": "markdown",
   "metadata": {},
   "source": [
    "In the above cell, we collected fifty trip times in a list, and passed this list as the first argument to the `.hist()` function. This function performs the computations and creates plotting objects for generating a histogram, but the plot is actually not rendered until the `.show()` function is executed. The `.title()` and `.xlabel()` functions provide some labeling for plot context.\n",
    "\n",
    "You will now use these functions to create a histogram of the trip times for the city you selected in question 4c. Don't separate the Subscribers and Customers for now: just collect all of the trip times and plot them."
   ]
  },
  {
   "cell_type": "code",
   "execution_count": 31,
   "metadata": {},
   "outputs": [
    {
     "data": {
      "image/png": "[encoded data removed]",
      "text/plain": [
       "<matplotlib.figure.Figure at 0x7f5544150f28>"
      ]
     },
     "metadata": {},
     "output_type": "display_data"
    }
   ],
   "source": [
    "def plot_duration(filename):\n",
    "    with open(filename, 'r') as f_in:\n",
    "        # set up csv reader object\n",
    "        reader = csv.DictReader(f_in)\n",
    "        \n",
    "        duration_list = []\n",
    "        \n",
    "        # tally up ride types\n",
    "        for row in reader:\n",
    "            duration = float(row['duration'])\n",
    "            duration_list.append(duration)\n",
    "            \n",
    "        %matplotlib inline \n",
    "        plt.hist(duration_list)\n",
    "        plt.title('Distribution of Trip Durations')\n",
    "        plt.xlabel('Duration (m)')\n",
    "        plt.show()\n",
    "\n",
    "plot_duration('./data/NYC-2016-Summary.csv')"
   ]
  },
  {
   "cell_type": "markdown",
   "metadata": {},
   "source": [
    "If you followed the use of the `.hist()` and `.show()` functions exactly like in the example, you're probably looking at a plot that's completely unexpected. The plot consists of one extremely tall bar on the left, maybe a very short second bar, and a whole lot of empty space in the center and right. Take a look at the duration values on the x-axis. This suggests that there are some highly infrequent outliers in the data. Instead of reprocessing the data, you will use additional parameters with the `.hist()` function to limit the range of data that is plotted. Documentation for the function can be found [[here]](https://matplotlib.org/devdocs/api/_as_gen/matplotlib.pyplot.hist.html#matplotlib.pyplot.hist).\n",
    "\n",
    "**Question 5**: Use the parameters of the `.hist()` function to plot the distribution of trip times for the Subscribers in your selected city. Do the same thing for only the Customers. Add limits to the plots so that only trips of duration less than 75 minutes are plotted. As a bonus, set the plots up so that bars are in five-minute wide intervals. For each group, where is the peak of each distribution? How would you describe the shape of each distribution?\n",
    "\n",
    "**Answer**: Replace this text with your response!"
   ]
  },
  {
   "cell_type": "code",
   "execution_count": 6,
   "metadata": {
    "collapsed": true
   },
   "outputs": [
    {
     "data": {
      "image/png": "[encoded data removed]",
      "text/plain": [
       "<matplotlib.figure.Figure at 0x7f37aff71f28>"
      ]
     },
     "metadata": {},
     "output_type": "display_data"
    },
    {
     "name": "stdout",
     "output_type": "stream",
     "text": [
      "Peak of distribution for Subscriber: 103199.0\n"
     ]
    },
    {
     "data": {
      "image/png": "[encoded data removed]",
      "text/plain": [
       "<matplotlib.figure.Figure at 0x7f37af7d55f8>"
      ]
     },
     "metadata": {},
     "output_type": "display_data"
    },
    {
     "name": "stdout",
     "output_type": "stream",
     "text": [
      "Peak of distribution for Customer: 7812.0\n"
     ]
    }
   ],
   "source": [
    "\n",
    "def plot_duration_usertype(filename,usertype):\n",
    "    with open(filename, 'r') as f_in:\n",
    "        # set up csv reader object\n",
    "        reader = csv.DictReader(f_in)\n",
    "        \n",
    "        duration_list = []\n",
    "        \n",
    "        # tally up ride types\n",
    "        for row in reader:\n",
    "            duration = float(row['duration'])\n",
    "            if duration<75 and row['user_type']==usertype:\n",
    "                duration_list.append(duration)\n",
    "#         print(max(duration_list))\n",
    "        %matplotlib inline \n",
    "        y, x, _ = plt.hist(duration_list)\n",
    "        plt.title('Distribution of Trip Durations for '+usertype)\n",
    "        plt.xlabel('Duration (m)')\n",
    "#         plt.gca().set_ylim([0,max(duration_list)])\n",
    "        plt.show()\n",
    "        \n",
    "        return max(y)\n",
    "\n",
    "peakS = plot_duration_usertype('./data/NYC-2016-Summary.csv','Subscriber')\n",
    "print(\"Peak of distribution for Subscriber: \"+str(peakS.max()))\n",
    "\n",
    "peakC = plot_duration_usertype('./data/NYC-2016-Summary.csv','Customer')\n",
    "print(\"Peak of distribution for Customer: \"+str(peakC.max()))\n",
    "\n"
   ]
  },
  {
   "cell_type": "code",
   "execution_count": null,
   "metadata": {},
   "outputs": [],
   "source": [
    "# Shape of  subsciber distribution : Its a unimodal distribution along x and y.positive skew.Tail on the right is fatter than tail on the left.\n",
    "#as the right tail is longer, the distribution is right skewed.\n",
    "#Shape of  customer distribution : Its a unimodal distribution along x and y.positive skew.Tail on the right is fatter than tail on the left.\n",
    "#as the right tail is longer, the distribution is right skewed."
   ]
  },
  {
   "cell_type": "markdown",
   "metadata": {
    "collapsed": true
   },
   "source": [
    "<a id='eda_continued'></a>\n",
    "## Performing Your Own Analysis\n",
    "\n",
    "So far, you've performed an initial exploration into the data available. You have compared the relative volume of trips made between three U.S. cities and the ratio of trips made by Subscribers and Customers. For one of these cities, you have investigated differences between Subscribers and Customers in terms of how long a typical trip lasts. Now it is your turn to continue the exploration in a direction that you choose. Here are a few suggestions for questions to explore:\n",
    "\n",
    "- How does ridership differ by month or season? Which month / season has the highest ridership? Does the ratio of Subscriber trips to Customer trips change depending on the month or season?\n",
    "- Is the pattern of ridership different on the weekends versus weekdays? On what days are Subscribers most likely to use the system? What about Customers? Does the average duration of rides change depending on the day of the week?\n",
    "- During what time of day is the system used the most? Is there a difference in usage patterns for Subscribers and Customers?\n",
    "\n",
    "If any of the questions you posed in your answer to question 1 align with the bullet points above, this is a good opportunity to investigate one of them. As part of your investigation, you will need to create a visualization. If you want to create something other than a histogram, then you might want to consult the [Pyplot documentation](https://matplotlib.org/devdocs/api/pyplot_summary.html). In particular, if you are plotting values across a categorical variable (e.g. city, user type), a bar chart will be useful. The [documentation page for `.bar()`](https://matplotlib.org/devdocs/api/_as_gen/matplotlib.pyplot.bar.html#matplotlib.pyplot.bar) includes links at the bottom of the page with examples for you to build off of for your own use.\n",
    "\n",
    "**Question 6**: Continue the investigation by exploring another question that could be answered by the data available. Document the question you want to explore below. Your investigation should involve at least two variables and should compare at least two groups. You should also use at least one visualization as part of your explorations.\n",
    "\n",
    "**Answer**: Show ridership for all the 3 cities based on month"
   ]
  },
  {
   "cell_type": "code",
   "execution_count": 37,
   "metadata": {},
   "outputs": [
    {
     "data": {
      "image/png": "[encoded data removed]",
      "text/plain": [
       "<matplotlib.figure.Figure at 0x7f590c2b3208>"
      ]
     },
     "metadata": {},
     "output_type": "display_data"
    }
   ],
   "source": [
    "import csv\n",
    "import calendar\n",
    "import matplotlib.pyplot as plt\n",
    "import numpy as np\n",
    "def month_ridership(filename,roler):\n",
    "    \"\"\"\n",
    "    This function plots the ridership throughtout the year month wise\n",
    "    \"\"\"\n",
    "    with open(filename, 'r') as f_in:\n",
    "        # set up csv reader object\n",
    "        reader = csv.DictReader(f_in)\n",
    "        \n",
    "        month_ridership = {}\n",
    "        month_ridership_list = []\n",
    "        \n",
    "        \n",
    "        # tally up ride types\n",
    "        for row in reader:\n",
    "            month = row['month']\n",
    "            duration = float(row['duration'])\n",
    "                \n",
    "            role = row['user_type']\n",
    "            if role == roler:\n",
    "                if month_ridership.get(month) is not None:\n",
    "                    month_ridership[month] = month_ridership.get(month)+duration\n",
    "                else:\n",
    "                    month_ridership[month] = duration\n",
    "            else:\n",
    "                if month_ridership.get(month) is not None:\n",
    "                    month_ridership[month] = month_ridership.get(month)+duration\n",
    "                else:\n",
    "                    month_ridership[month] = duration\n",
    "                \n",
    "        for key,value in month_ridership.items():\n",
    "            month_ridership_list.append(value)\n",
    "            \n",
    "        return month_ridership_list\n",
    "            \n",
    "       \n",
    "        \n",
    "max_min_mont_list_nyc = month_ridership('./data/NYC-2016-Summary.csv','')      \n",
    "max_min_mont_list_chicago = month_ridership('./data/Chicago-2016-Summary.csv','') \n",
    "max_min_mont_list_washington = month_ridership('./data/Washington-2016-Summary.csv','') \n",
    "\n",
    "n_groups = 12\n",
    "fig, ax = plt.subplots()\n",
    "index = np.arange(n_groups)\n",
    "bar_width = 0.35\n",
    "opacity = 0.8\n",
    " \n",
    "rects1 = plt.bar(index, max_min_mont_list_nyc, bar_width,\n",
    "                 alpha=opacity,\n",
    "                 color='b',\n",
    "                 label='NYC')\n",
    " \n",
    "rects2 = plt.bar(index + bar_width, max_min_mont_list_chicago, bar_width,\n",
    "                 alpha=opacity,\n",
    "                 color='g',\n",
    "                 label='Chicago')\n",
    "\n",
    "rects2 = plt.bar(index + 2*bar_width, max_min_mont_list_washington, bar_width,\n",
    "                 alpha=opacity,\n",
    "                 color='y',\n",
    "                 label='Washington')\n",
    " \n",
    "plt.xlabel('Months')\n",
    "plt.ylabel('Duration')\n",
    "plt.title('Ridership by month')\n",
    "plt.xticks(index + bar_width, ('J', 'F', 'M', 'A', 'M','J','J','A','S','O','N','D'))\n",
    "plt.legend()\n",
    " \n",
    "plt.tight_layout()\n",
    "plt.show()\n",
    "\n",
    "\n",
    "# max_min_mont_list_nyc_sub = month_ridership('./data/NYC-2016-Summary.csv','Subscriber')\n",
    "# max_min_mont_list_nyc_cus = month_ridership('./data/NYC-2016-Summary.csv','Customer')\n",
    "\n",
    "# n_groups = 12\n",
    "# fig, ax = plt.subplots()\n",
    "# index = np.arange(n_groups)\n",
    "# bar_width = 0.35\n",
    "# opacity = 0.8\n",
    " \n",
    "# rects1 = plt.bar(index, max_min_mont_list_nyc_sub, bar_width,\n",
    "#                  alpha=opacity,\n",
    "#                  color='b',\n",
    "#                  label='Subscriber')\n",
    " \n",
    "# rects2 = plt.bar(index + bar_width, max_min_mont_list_nyc_cus, bar_width,\n",
    "#                  alpha=opacity,\n",
    "#                  color='g',\n",
    "#                  label='Customer')\n",
    " \n",
    "# plt.xlabel('Months')\n",
    "# plt.ylabel('Duration')\n",
    "# plt.title('Ridership by usertype for NYC')\n",
    "# plt.xticks(index + bar_width, ('J', 'F', 'M', 'A', 'M','J','J','A','S','O','N','D'))\n",
    "# plt.legend()\n",
    " \n",
    "# plt.tight_layout()\n",
    "# plt.show()"
   ]
  },
  {
   "cell_type": "markdown",
   "metadata": {},
   "source": [
    "<a id='conclusions'></a>\n",
    "## Conclusions\n",
    "\n",
    "Congratulations on completing the project! This is only a sampling of the data analysis process: from generating questions, wrangling the data, and to exploring the data. Normally, at this point in the data analysis process, you might want to draw conclusions about the data by performing a statistical test or fitting the data to a model for making predictions. There are also a lot of potential analyses that could be performed on the data which are not possible with only the data provided. For example, detailed location data has not been investigated. Where are the most commonly used docks? What are the most common routes? As another example, weather has potential to have a large impact on daily ridership. How much is ridership impacted when there is rain or snow? Are subscribers or customers affected more by changes in weather?\n",
    "\n",
    "**Question 7**: Putting the bike share data aside, think of a topic or field of interest where you would like to be able to apply the techniques of data science. What would you like to be able to learn from your chosen subject?\n",
    "\n",
    "**Answer**: Investigate the performance of stocks/mutual funds for certain companies over a period of time\n",
    "\n",
    "> **Tip**: If we want to share the results of our analysis with others, we aren't limited to giving them a copy of the jupyter Notebook (.ipynb) file. We can also export the Notebook output in a form that can be opened even for those without Python installed. From the **File** menu in the upper left, go to the **Download as** submenu. You can then choose a different format that can be viewed more generally, such as HTML (.html) or\n",
    "PDF (.pdf). You may need additional packages or software to perform these exports.\n",
    "\n",
    "> If you are working on this project via the Project Notebook page in the classroom, you can also submit this project directly from the workspace. **Before you do that**, you should save an HTML copy of the completed project to the workspace by running the code cell below. If it worked correctly, the output code should be a 0, and if you click on the jupyter icon in the upper left, you should see your .html document in the workspace directory. Alternatively, you can download the .html copy of your report following the steps in the previous paragraph, then _upload_ the report to the directory (by clicking the jupyter icon).\n",
    "\n",
    "> Either way, once you've gotten the .html report in your workspace, you can complete your submission by clicking on the \"Submit Project\" button to the lower-right hand side of the workspace."
   ]
  },
  {
   "cell_type": "code",
   "execution_count": 1,
   "metadata": {},
   "outputs": [
    {
     "data": {
      "text/plain": [
       "0"
      ]
     },
     "execution_count": 1,
     "metadata": {},
     "output_type": "execute_result"
    }
   ],
   "source": [
    "from subprocess import call\n",
    "call(['python', '-m', 'nbconvert', 'Bike_Share_Analysis.ipynb'])"
   ]
  },
  {
   "cell_type": "code",
   "execution_count": null,
   "metadata": {},
   "outputs": [],
   "source": []
  },
  {
   "cell_type": "code",
   "execution_count": null,
   "metadata": {},
   "outputs": [],
   "source": []
  }
 ],
 "metadata": {
  "anaconda-cloud": {},
  "kernelspec": {
   "display_name": "Python 3",
   "language": "python",
   "name": "python3"
  },
  "language_info": {
   "codemirror_mode": {
    "name": "ipython",
    "version": 3
   },
   "file_extension": ".py",
   "mimetype": "text/x-python",
   "name": "python",
   "nbconvert_exporter": "python",
   "pygments_lexer": "ipython3",
   "version": "3.6.3"
  }
 },
 "nbformat": 4,
 "nbformat_minor": 1
}
